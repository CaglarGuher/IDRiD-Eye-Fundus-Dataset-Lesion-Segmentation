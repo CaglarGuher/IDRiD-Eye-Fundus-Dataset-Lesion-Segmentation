{
 "cells": [
  {
   "cell_type": "code",
   "execution_count": null,
   "metadata": {},
   "outputs": [],
   "source": [
    "from utils import *\n",
    "from train_test_val_initialize import *"
   ]
  },
  {
   "cell_type": "code",
   "execution_count": null,
   "metadata": {},
   "outputs": [],
   "source": [
    "batch_size = 8\n",
    "decoder = \"Unet\"\n",
    "encoder=\"vgg19\"\n",
    "encoder_weight=\"imagenet\"\n",
    "train_image_dir=\"images/train/image\"\n",
    "train_mask_dir =\"images/train/mask\"\n",
    "val_image_dir=\"images/val/image\"\n",
    "val_mask_dir = \"images/val/mask\"\n",
    "test_image_dir = \"images/test/cropped_image\"\n",
    "test_mask_dir = \"images/test/mask/cropped_ma\"\n",
    "activation = \"sigmoid\"\n",
    "epoch = 40\n",
    "lr= 5e-5\n",
    "weight_decay= 1e-2\n",
    "\n",
    "device = \"cuda\"\n",
    "resolution = 0\n",
    "data = \"ma\"\n",
    "\n",
    "crop_size = 256\n",
    "stride = 256\n",
    "\n",
    "\n",
    "\n",
    "#create_test_data(\"test_original\")\n",
    "#create_train_val_data(\"train_original\", 1)\n",
    "#initialize_crop_save(crop_size,stride)\n",
    "\n",
    "#copy_and_paste_folder(\"images/test/cropped_image\")\n",
    "\n",
    "#copy_and_paste_folder(\"images/test/mask/cropped_ma\")\n",
    "\n",
    "\n",
    "delete_black_masks(\"images/train/cropped_image\",\"images/train/mask/cropped_ma\",threshold=0)\n",
    "\n",
    "delete_black_masks(\"images/test/cropped_image_copy\",\"images/test/mask/cropped_ma_copy\",threshold=100)\n",
    "\n",
    "\n",
    "\n"
   ]
  },
  {
   "cell_type": "code",
   "execution_count": null,
   "metadata": {},
   "outputs": [],
   "source": [
    "\n",
    "model,train_loader= initialize_train_val(\n",
    "batch_size = batch_size,\n",
    "decoder =decoder,\n",
    "encoder =encoder,\n",
    "encoder_weight= encoder_weight,\n",
    "train_image_dir=train_image_dir,\n",
    "train_mask_dir =train_mask_dir ,\n",
    "resolution=resolution,\n",
    "activation = activation,data = data)"
   ]
  },
  {
   "cell_type": "code",
   "execution_count": null,
   "metadata": {},
   "outputs": [],
   "source": [
    "test_loader  = get_test_data(encoder,\n",
    "              encoder_weight,\n",
    "              f\"{test_image_dir}_copy\",\n",
    "              f\"{test_mask_dir}_copy\",\n",
    "              resolution=0)"
   ]
  },
  {
   "cell_type": "code",
   "execution_count": null,
   "metadata": {},
   "outputs": [],
   "source": [
    "\n",
    "best_model,model_info_train,locate = train_validate(epoch = epoch,   \n",
    "lr= lr,\n",
    "weight_decay=weight_decay,\n",
    "train_loader = train_loader,\n",
    "valid_loader=test_loader,\n",
    "encoder=encoder,\n",
    "model = model,\n",
    "device = device)\n"
   ]
  },
  {
   "cell_type": "code",
   "execution_count": null,
   "metadata": {},
   "outputs": [],
   "source": [
    "\n",
    "model_info_initialize = initialize_model_info(batch_size=batch_size,decoder=decoder,\n",
    "encoder=encoder,\n",
    "resolution = resolution,\n",
    "data = data)"
   ]
  },
  {
   "cell_type": "code",
   "execution_count": null,
   "metadata": {},
   "outputs": [],
   "source": [
    "\n",
    "test_model(best_model=model,\n",
    "           encoder_weight=encoder_weight,\n",
    "           resolution=resolution,\n",
    "           device=device,\n",
    "           encoder=encoder,\n",
    "           model_info_train=model_info_train,\n",
    "           model_info_initialize=model_info_initialize,\n",
    "           cropped_res=crop_size,stride = stride,data = data,locate =locate)"
   ]
  }
 ],
 "metadata": {
  "kernelspec": {
   "display_name": "segmentation",
   "language": "python",
   "name": "python3"
  },
  "language_info": {
   "codemirror_mode": {
    "name": "ipython",
    "version": 3
   },
   "file_extension": ".py",
   "mimetype": "text/x-python",
   "name": "python",
   "nbconvert_exporter": "python",
   "pygments_lexer": "ipython3",
   "version": "3.9.18"
  }
 },
 "nbformat": 4,
 "nbformat_minor": 2
}
