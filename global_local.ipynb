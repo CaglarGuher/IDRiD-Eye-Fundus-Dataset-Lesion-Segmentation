{
 "cells": [
  {
   "cell_type": "code",
   "execution_count": 1,
   "metadata": {},
   "outputs": [
    {
     "name": "stderr",
     "output_type": "stream",
     "text": [
      "c:\\Users\\PC\\anaconda3\\envs\\seg\\lib\\site-packages\\tqdm\\auto.py:21: TqdmWarning: IProgress not found. Please update jupyter and ipywidgets. See https://ipywidgets.readthedocs.io/en/stable/user_install.html\n",
      "  from .autonotebook import tqdm as notebook_tqdm\n"
     ]
    }
   ],
   "source": [
    "import json\n",
    "import os\n",
    "import cv2\n",
    "import numpy as np\n",
    "import torch\n",
    "import torch.nn as nn\n",
    "import torch.optim as optim\n",
    "from torch.utils.data import DataLoader, random_split\n",
    "\n",
    "from natsort import natsorted\n",
    "from torch.utils.data import Dataset\n",
    "from Get_model_and_data import *\n"
   ]
  },
  {
   "cell_type": "code",
   "execution_count": 13,
   "metadata": {},
   "outputs": [],
   "source": [
    "array1 = np.random.rand(15)\n",
    "array2 = np.random.rand(15)"
   ]
  },
  {
   "cell_type": "code",
   "execution_count": 20,
   "metadata": {},
   "outputs": [],
   "source": [
    "merged_array = np.stack((array1, array2), axis=0)"
   ]
  },
  {
   "cell_type": "code",
   "execution_count": 21,
   "metadata": {},
   "outputs": [
    {
     "data": {
      "text/plain": [
       "array([[0.10457027, 0.22195662, 0.23159641, 0.54358235, 0.68853768,\n",
       "        0.82754976, 0.52509291, 0.12439998, 0.75503369, 0.28731748,\n",
       "        0.50991584, 0.38828309, 0.53668543, 0.9690895 , 0.95571249],\n",
       "       [0.54950145, 0.30699637, 0.03018004, 0.29364966, 0.23183906,\n",
       "        0.67555266, 0.26762847, 0.09250946, 0.24644867, 0.35979527,\n",
       "        0.35570068, 0.46398445, 0.13862736, 0.94550717, 0.31074887]])"
      ]
     },
     "execution_count": 21,
     "metadata": {},
     "output_type": "execute_result"
    }
   ],
   "source": [
    "merged_array"
   ]
  },
  {
   "cell_type": "code",
   "execution_count": 23,
   "metadata": {},
   "outputs": [
    {
     "name": "stdout",
     "output_type": "stream",
     "text": [
      "Epoch 1, Loss: 0.2412302941083908, Learning Rate: 0.001\n",
      "Epoch 1, Layer: fc1.weight, Coefficients: tensor([[[[-0.0134]],\n",
      "\n",
      "         [[ 0.4453]]]], device='cuda:0')\n",
      "Epoch 2, Loss: 0.23053862154483795, Learning Rate: 0.001\n",
      "Epoch 2, Layer: fc1.weight, Coefficients: tensor([[[[0.0184]],\n",
      "\n",
      "         [[0.4945]]]], device='cuda:0')\n",
      "Epoch 3, Loss: 0.12766626477241516, Learning Rate: 0.001\n",
      "Epoch 3, Layer: fc1.weight, Coefficients: tensor([[[[0.0477]],\n",
      "\n",
      "         [[0.5393]]]], device='cuda:0')\n",
      "Epoch 4, Loss: 0.09575638175010681, Learning Rate: 0.001\n",
      "Epoch 4, Layer: fc1.weight, Coefficients: tensor([[[[0.0752]],\n",
      "\n",
      "         [[0.5795]]]], device='cuda:0')\n",
      "Epoch 5, Loss: 0.07092415541410446, Learning Rate: 0.001\n",
      "Epoch 5, Layer: fc1.weight, Coefficients: tensor([[[[0.1018]],\n",
      "\n",
      "         [[0.6149]]]], device='cuda:0')\n",
      "Epoch 6, Loss: 0.048971787095069885, Learning Rate: 0.001\n",
      "Epoch 6, Layer: fc1.weight, Coefficients: tensor([[[[0.1243]],\n",
      "\n",
      "         [[0.6452]]]], device='cuda:0')\n",
      "Epoch 7, Loss: 0.04437097907066345, Learning Rate: 0.001\n",
      "Epoch 7, Layer: fc1.weight, Coefficients: tensor([[[[0.1422]],\n",
      "\n",
      "         [[0.6713]]]], device='cuda:0')\n",
      "Epoch 8, Loss: 0.056695327162742615, Learning Rate: 0.001\n",
      "Epoch 8, Layer: fc1.weight, Coefficients: tensor([[[[0.1599]],\n",
      "\n",
      "         [[0.6924]]]], device='cuda:0')\n",
      "Epoch 9, Loss: 0.026884814724326134, Learning Rate: 0.001\n",
      "Epoch 9, Layer: fc1.weight, Coefficients: tensor([[[[0.1730]],\n",
      "\n",
      "         [[0.7091]]]], device='cuda:0')\n",
      "Epoch 10, Loss: 0.03130542114377022, Learning Rate: 0.001\n",
      "Epoch 10, Layer: fc1.weight, Coefficients: tensor([[[[0.1841]],\n",
      "\n",
      "         [[0.7217]]]], device='cuda:0')\n",
      "Prediction masks are  saved\n",
      "Prediction images are saved\n"
     ]
    }
   ],
   "source": [
    "class CoefficientModel(nn.Module):\n",
    "    def __init__(self):\n",
    "        super(CoefficientModel, self).__init__()\n",
    "        self.fc1 = nn.Conv2d(2, 1, kernel_size=1, stride=1, padding=0)\n",
    "\n",
    "    def forward(self, merged_array):\n",
    "        x = self.fc1(merged_array)\n",
    "        return x\n",
    "\n",
    "def global_local_prob_model(train_mask_dir , global_dir, local_dir, device, save_model_path):\n",
    "    if not os.path.exists(save_model_path):\n",
    "        os.makedirs(os.path.dirname(save_model_path), exist_ok=True)\n",
    "\n",
    "    \n",
    "    array_folder_local = f\"{local_dir}/pred_probs_caglar_he_train\"\n",
    "    array_folder_global = f\"{global_dir}/pred_probs_caglar_he_train\"\n",
    "\n",
    "    dataset = Global_Local_Dataset(array_folder_local, array_folder_global, train_mask_dir)\n",
    "    train_loader = DataLoader(dataset, batch_size=2, shuffle=True, drop_last=True)\n",
    "    \n",
    "\n",
    "    model = CoefficientModel().to(device)\n",
    "    criterion = nn.MSELoss()\n",
    "    optimizer = optim.Adam(model.parameters(), lr=0.001)\n",
    "    scheduler = optim.lr_scheduler.LambdaLR(optimizer, lr_lambda=lambda epoch: 0.5**(epoch // 15))\n",
    "\n",
    "    num_epochs = 10\n",
    "    for epoch in range(num_epochs):\n",
    "        model.train()\n",
    "        for merged_array, gt_mask in train_loader:\n",
    "            merged_array, gt_mask = merged_array.to(device), gt_mask.to(device)\n",
    "            optimizer.zero_grad()\n",
    "            output = model(merged_array.float())\n",
    "            output = output.view(-1, 3456, 3456)\n",
    "            loss = criterion(output, gt_mask.float())\n",
    "            loss.backward()\n",
    "            optimizer.step()\n",
    "        scheduler.step()\n",
    "        print(f\"Epoch {epoch+1}, Loss: {loss.item()}, Learning Rate: {scheduler.get_last_lr()[0]}\")\n",
    "        for name, param in model.named_parameters():\n",
    "            if 'weight' in name:\n",
    "                print(f\"Epoch {epoch+1}, Layer: {name}, Coefficients: {param.data}\")\n",
    "\n",
    "    torch.save(model.state_dict(), f\"{save_model_path}best_model.pth\")\n",
    "    \n",
    "\n",
    "\n",
    "\n",
    "def predict_and_save_results(global_dir, local_dir, model_path, device, saved_prob_dir,saved_mask_dir):\n",
    "    if not os.path.exists(saved_prob_dir):\n",
    "        os.makedirs(saved_prob_dir, exist_ok=True)\n",
    "    if not os.path.exists(saved_mask_dir):\n",
    "        os.makedirs(saved_mask_dir, exist_ok=True)\n",
    "\n",
    "    model = CoefficientModel().to(device)\n",
    "    model.load_state_dict(torch.load(model_path))\n",
    "    model.eval()\n",
    "\n",
    "    array_folder_local = f\"{local_dir}/pred_probs_caglar_he\"\n",
    "    array_folder_global = f\"{global_dir}/pred_probs_caglar_he\"\n",
    "    gt_folder = \"c:/Users/PC/Desktop/square/label_zoom_1_0_1/train/\"  \n",
    "\n",
    "    dataset = Global_Local_Dataset(array_folder_local, array_folder_global, gt_folder)\n",
    "    data_loader = DataLoader(dataset, batch_size=1, shuffle=False)\n",
    "\n",
    "    with torch.no_grad():\n",
    "        for idx, (merged_array, gt_mask) in enumerate(data_loader):\n",
    "            merged_array = merged_array.to(device)\n",
    "            output = model(merged_array.float())\n",
    "            output_np = output.cpu().numpy().squeeze()\n",
    "\n",
    "            save_path = os.path.join(saved_prob_dir, f\"prediction_{idx}.npy\")\n",
    "            np.save(save_path, output_np)\n",
    "        \n",
    "\n",
    "            png_save_path = os.path.join(saved_mask_dir, f\"prediction_{idx}.png\")\n",
    "            output_bool = (output_np > 0.5).astype(np.uint8)\n",
    "            output_img = (output_bool * 255).astype(np.uint8)\n",
    "            cv2.imwrite(png_save_path, output_img)\n",
    "        print(f\"Prediction masks are  saved\")\n",
    "        print(f\"Prediction images are saved\")\n",
    "\n",
    "# Set device and directories\n",
    "device = \"cuda\" if torch.cuda.is_available() else \"cpu\"\n",
    "train_mask_directory = \"c:/Users/PC/Desktop/square/label_zoom_1_0_1/train\"\n",
    "global_dir = \"C:/Users/PC/Desktop/Segmentation/out/2024_May_17-17_01_17/\"\n",
    "local_dir = \"C:/Users/PC/Desktop/Segmentation/out/2024_May_17-15_40_27\"\n",
    "save_model_path = \"Final_model_results/\"\n",
    "saved_prob_dir = f\"{save_model_path}prob_arrays/\"\n",
    "saved_mask_dir = f\"{save_model_path}mask_arrays/\"\n",
    "# Train the model and save it\n",
    "global_local_prob_model(train_mask_directory,global_dir, local_dir, device, save_model_path)\n",
    "\n",
    "# Load the model, make predictions, and save them\n",
    "predict_and_save_results(global_dir, local_dir, f\"{save_model_path}best_model.pth\", device, saved_prob_dir,saved_mask_dir)\n"
   ]
  },
  {
   "cell_type": "code",
   "execution_count": 17,
   "metadata": {},
   "outputs": [],
   "source": [
    "test_Array = np.load(\"C:/Users/PC/Desktop/Segmentation/IDRiD-Eye-Fundus-Dataset-Lesion-Segmentation/Final_model_results/prob_arrays/prediction_3.npy\")"
   ]
  },
  {
   "cell_type": "code",
   "execution_count": 22,
   "metadata": {},
   "outputs": [
    {
     "data": {
      "text/plain": [
       "array([[-0.12733111, -0.13129711, -0.12131891, ..., -0.07256919,\n",
       "        -0.07257003, -0.07250434],\n",
       "       [-0.13381538, -0.11759025, -0.11551949, ..., -0.07522941,\n",
       "        -0.07523021, -0.0751628 ],\n",
       "       [-0.13595124, -0.12238556, -0.11541605, ..., -0.07092127,\n",
       "        -0.07092205, -0.07085466],\n",
       "       ...,\n",
       "       [-0.11819002, -0.11602256, -0.11540022, ..., -0.06141147,\n",
       "        -0.06140807, -0.06169233],\n",
       "       [-0.11819023, -0.11602274, -0.11540043, ..., -0.06140175,\n",
       "        -0.06139836, -0.06168264],\n",
       "       [-0.11817354, -0.11600611, -0.11538377, ..., -0.06220832,\n",
       "        -0.0622049 , -0.06248736]], dtype=float32)"
      ]
     },
     "execution_count": 22,
     "metadata": {},
     "output_type": "execute_result"
    }
   ],
   "source": [
    "test_Array"
   ]
  }
 ],
 "metadata": {
  "kernelspec": {
   "display_name": "seg",
   "language": "python",
   "name": "python3"
  },
  "language_info": {
   "codemirror_mode": {
    "name": "ipython",
    "version": 3
   },
   "file_extension": ".py",
   "mimetype": "text/x-python",
   "name": "python",
   "nbconvert_exporter": "python",
   "pygments_lexer": "ipython3",
   "version": "3.9.18"
  }
 },
 "nbformat": 4,
 "nbformat_minor": 2
}
