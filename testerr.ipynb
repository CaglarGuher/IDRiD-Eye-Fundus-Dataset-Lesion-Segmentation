{
 "cells": [
  {
   "cell_type": "code",
   "execution_count": 2,
   "metadata": {},
   "outputs": [
    {
     "name": "stderr",
     "output_type": "stream",
     "text": [
      "c:\\Users\\PC\\anaconda3\\envs\\seg\\lib\\site-packages\\tqdm\\auto.py:21: TqdmWarning: IProgress not found. Please update jupyter and ipywidgets. See https://ipywidgets.readthedocs.io/en/stable/user_install.html\n",
      "  from .autonotebook import tqdm as notebook_tqdm\n"
     ]
    }
   ],
   "source": [
    "import numpy as np\n",
    "import cv2\n",
    "import matplotlib.pyplot as plt\n",
    "import torch\n",
    "import segmentation_models_pytorch as smp\n",
    "from utils import *"
   ]
  },
  {
   "cell_type": "code",
   "execution_count": 3,
   "metadata": {},
   "outputs": [],
   "source": [
    "merge_cropped_images(3456,3456,384,384,\"c:/Users/PC/Desktop/Short_Data/Denoised/all_4096/test_crop385_s385\",\"c:/Users/PC/Desktop/Short_Data/Denoised/all_4096/test\")"
   ]
  },
  {
   "cell_type": "code",
   "execution_count": 5,
   "metadata": {},
   "outputs": [],
   "source": [
    "DEVICE = \"cuda\"\n",
    "model = smp.UnetPlusPlus(\n",
    "        encoder_name=\"vgg19\",\n",
    "        encoder_weights=\"imagenet\",\n",
    "        activation=\"sigmoid\",\n",
    "    \n",
    "    )\n",
    "model.load_state_dict(torch.load(\"best_step_model.pth\"))\n",
    "model.to(DEVICE)\n",
    "\n",
    "def unpad_image(padded_image, original_size):\n",
    "    target_height, target_width = padded_image.shape[:2]\n",
    "    original_height, original_width = original_size,original_size\n",
    "    pad_height = target_height - original_height\n",
    "    pad_width = target_width - original_width\n",
    "\n",
    "  \n",
    "    if pad_height > 0:\n",
    "        padded_image = padded_image[:-pad_height, :]\n",
    "    if pad_width > 0:\n",
    "        padded_image = padded_image[:, :-pad_width]\n",
    "\n",
    "    return padded_image\n",
    "def pad_image(image, target_size, pad_value=0):\n",
    "    height, width = image.shape[:2]\n",
    "    target_height, target_width = target_size\n",
    "\n",
    "\n",
    "    pad_height = target_height - (height % target_height)\n",
    "    pad_width = target_width - (width % target_width)\n",
    "\n",
    "   \n",
    "    padded_image = np.pad(image, ((0, pad_height), (0, pad_width), (0, 0)), mode='constant', constant_values=pad_value)\n",
    "\n",
    "    return padded_image\n",
    "def patched_predict(img,model, window_size = 576, stride =288):\n",
    "    \n",
    "    img_pad = pad_image(img,(window_size,window_size),0)\n",
    "  \n",
    "    bound = (window_size - stride)//2\n",
    "    #print(img.shape[0],img.shape[1],img.shape[2])\n",
    "    fullsize_pred = np.zeros((img_pad.shape[0], img_pad.shape[1]))\n",
    "    #tmp_arr = np.full((img.shape[0], img.shape[1]), channel-1)\n",
    "    #fullsize_pred = y_pred=to_categorical(tmp_arr, num_classes=channel)\n",
    "\n",
    "    row=(img_pad.shape[0] - 2*bound)//stride\n",
    "    column=(img_pad.shape[1] - 2*bound)//stride\n",
    "    #model_class = util.load_model('/home/vivente/Desktop/TEZ/Code/segmentation/out_classification/2021_November_27-15_57_51/fcn_trained_model')\n",
    "    #model_class = 0\n",
    "    \n",
    "    for i in range(row):\n",
    "        for j in range(column):\n",
    "            #print(i,j)\n",
    "            x_start = (i*stride)\n",
    "            x_stop = x_start + window_size\n",
    "            y_start = (j*stride)\n",
    "            y_stop = y_start + window_size\n",
    "            bx_start = x_start + bound\n",
    "            bx_stop  = x_stop - bound\n",
    "            by_start = y_start + bound\n",
    "            by_stop  = y_stop - bound\n",
    "            #print(x_start,x_stop,y_start,y_stop)\n",
    "            #print(bx_start,bx_stop,by_start,by_stop)\n",
    "            pred_in = img_pad[x_start:x_stop, y_start:y_stop,:]\n",
    "            preprocessing_fn = smp.encoders.get_preprocessing_fn(\"vgg19\",\"imagenet\")\n",
    "            sample = get_preprocessing(preprocessing_fn,0)(image=pred_in)\n",
    "            pred_in = sample[\"image\"]\n",
    "            pred_in = torch.from_numpy(pred_in).to(DEVICE).unsqueeze(0)\n",
    "            with torch.no_grad():\n",
    "                part_pred = model.predict(pred_in).cpu().numpy().astype(np.float32)\n",
    "    \n",
    "            \n",
    "            #part_pred_class = model_class.predict(np.reshape(pred_in, (1,window_size, window_size, 3)))\n",
    "            #if(part_pred_class<0.5\n",
    "            #if(y_patch.max()!=0):\n",
    "            #    part_pred = model.predict(np.reshape(pred_in, (1,window_size, window_size, 3)))\n",
    "            #else:\n",
    "            #    part_pred = background_array\n",
    "            part_pred = np.reshape(part_pred, (window_size, window_size))\n",
    "            #print(np.shape(part_pred))\n",
    "            ################ Koseler ###############\n",
    "            if(i==0 and j== 0):                     #####baslangic kösesi\n",
    "                valid_part = part_pred[0:window_size - bound, 0:window_size - bound]\n",
    "                #print(np.shape(valid_part))\n",
    "                fullsize_pred[0:bx_stop, 0:by_stop] = valid_part\n",
    "            elif(i==0 and j== column-1):            #####sag kose\n",
    "                valid_part = part_pred[0:window_size - bound, bound:window_size]\n",
    "                #print(np.shape(valid_part))\n",
    "                fullsize_pred[0:bx_stop, by_start:y_stop] = valid_part\n",
    "            elif(i==row-1 and j==column-1):         ####sag alt kose\n",
    "                valid_part = part_pred[bound:window_size, bound:window_size]\n",
    "                #print(np.shape(valid_part))\n",
    "                fullsize_pred[bx_start:x_stop, by_start:y_stop] = valid_part\n",
    "            elif(i==row-1 and j==0):                ####sol alt kose\n",
    "                valid_part = part_pred[bound:window_size, 0:window_size - bound]\n",
    "                #print(np.shape(valid_part))\n",
    "                fullsize_pred[bx_start:x_stop, y_start:by_stop] = valid_part\n",
    "            ################ Kenarlar ##############\n",
    "            elif(i==0 and j!=0 and j!= column-1):   #####ust kenar\n",
    "                valid_part = part_pred[0:window_size - bound, bound:window_size - bound]\n",
    "                #print(np.shape(valid_part))\n",
    "                fullsize_pred[0:bx_stop, by_start:by_stop] = valid_part\n",
    "            elif(j==0 and i!=0 and i!=row-1):       #####sol kenar\n",
    "                valid_part = part_pred[bound:window_size - bound, 0:window_size - bound]\n",
    "                #print(np.shape(valid_part))\n",
    "                fullsize_pred[bx_start:bx_stop, 0:by_stop] = valid_part\n",
    "            elif(i==row-1 and j!=column-1 and j!=0):####alt kenar\n",
    "                valid_part = part_pred[bound:window_size, bound:window_size - bound]\n",
    "                #print(np.shape(valid_part))\n",
    "                fullsize_pred[bx_start:x_stop, by_start:by_stop] = valid_part\n",
    "            elif(j==column-1 and i!=row-1 and i!=0):#####sag kenar\n",
    "                valid_part = part_pred[bound:window_size - bound, bound:window_size]\n",
    "                #print(np.shape(valid_part))\n",
    "                fullsize_pred[bx_start:bx_stop, by_start:y_stop] = valid_part\n",
    "\n",
    "            else:\n",
    "                valid_part = part_pred[bound:window_size - bound, bound:window_size - bound]\n",
    "                #print(np.shape(valid_part))\n",
    "                fullsize_pred[bx_start:bx_stop, by_start:by_stop] = valid_part\n",
    "\n",
    "        unpad_fullsize_pred = unpad_image(fullsize_pred,img.shape[1])\n",
    "\n",
    "    '''\n",
    "    print(\"Full size prediction completed\")\n",
    "    colour_img_pred = util.colorize_binary_img(fullsize_pred)\n",
    "    plt.imshow(colour_img_pred)\n",
    "    plt.show()\n",
    "    '''\n",
    "\n",
    "    return np.asarray(unpad_fullsize_pred)"
   ]
  },
  {
   "cell_type": "code",
   "execution_count": 46,
   "metadata": {},
   "outputs": [],
   "source": [
    "img = cv2.imread(\"c:/Users/PC/Desktop/Short_Data/Original/test/IDRiD_70.png\")\n",
    "img= cv2.cvtColor(img, cv2.COLOR_BGR2RGB)\n",
    "gt = cv2.imread(\"c:/Users/PC/Desktop/Short_Data/labels/test/IDRiD_70.png\",cv2.IMREAD_GRAYSCALE)\n",
    "gt = np.where(gt == 3,1,0)\n",
    "a = patched_predict(img,model,384,192)"
   ]
  },
  {
   "cell_type": "code",
   "execution_count": 6,
   "metadata": {},
   "outputs": [],
   "source": [
    "dir_img = \"c:/Users/PC/Desktop/Short_Data/Denoised/all_4096/test\"\n",
    "dir_mask = \"c:/Users/PC/Desktop/Short_Data/labels/test/\"\n",
    "imgs = natsorted(os.listdir(dir_img))\n",
    "masks = [file for file in natsorted(os.listdir(dir_mask)) if file.lower().endswith(\".png\")]"
   ]
  },
  {
   "cell_type": "code",
   "execution_count": 7,
   "metadata": {},
   "outputs": [
    {
     "name": "stdout",
     "output_type": "stream",
     "text": [
      "0.5221160435935369\n",
      "0.3865593968107336\n",
      "0.2450918962343069\n",
      "0.399892076472226\n",
      "0.5636194432461155\n",
      "0.5145801177126483\n",
      "0.33200653395805235\n",
      "0.43046757992699025\n",
      "0.17903923979662217\n",
      "0.5671291538584791\n",
      "0.4939010750016446\n",
      "0.5117372853796518\n",
      "0.5535995577748445\n",
      "0.2247010345030402\n",
      "0.39195369708608285\n",
      "0.3369751763830536\n",
      "0.4210289034533834\n",
      "0.5089619048109694\n",
      "0.4746420857072725\n",
      "0.4738304365827869\n",
      "0.5515793741396607\n",
      "0.561084703286008\n",
      "0.5083019317361156\n",
      "0.5476533943337758\n",
      "0.4532640939221185\n",
      "0.5030988578130634\n",
      "0.3147051749692096\n",
      "Average AUC-PR: 0.44338963587008856\n"
     ]
    }
   ],
   "source": [
    "total_auc_pr = 0\n",
    "for img, mask in zip(imgs, masks):\n",
    "    img = cv2.imread(f\"{dir_img}/{img}\")\n",
    "    img = cv2.cvtColor(img, cv2.COLOR_BGR2RGB)\n",
    "    \n",
    "    gt = cv2.imread(f\"{dir_mask}/{mask}\", cv2.IMREAD_GRAYSCALE)\n",
    "    gt = np.where(gt == 3, 1, 0)\n",
    "    \n",
    "    a = patched_predict(img, model, 384, 192)\n",
    "    \n",
    "    auc_pr = calculate_auc_pr(gt, a)\n",
    "    print(auc_pr)\n",
    "    total_auc_pr += auc_pr\n",
    "\n",
    "average_auc_pr = total_auc_pr / len(imgs)\n",
    "print(f\"Average AUC-PR: {average_auc_pr}\")"
   ]
  },
  {
   "cell_type": "code",
   "execution_count": 47,
   "metadata": {},
   "outputs": [],
   "source": [
    "test_mask = np.load(\"out/2023_December_12-19_06_40/merged_pred_probs_ma/merged_IDRiD_70.png_1.png_probs.npy\")"
   ]
  },
  {
   "cell_type": "code",
   "execution_count": 49,
   "metadata": {},
   "outputs": [
    {
     "data": {
      "text/plain": [
       "0.31606480139455456"
      ]
     },
     "execution_count": 49,
     "metadata": {},
     "output_type": "execute_result"
    }
   ],
   "source": [
    "calculate_auc_pr(gt,test_mask)"
   ]
  },
  {
   "cell_type": "code",
   "execution_count": 106,
   "metadata": {},
   "outputs": [
    {
     "name": "stdout",
     "output_type": "stream",
     "text": [
      "0.00047211448\n",
      "0.00047211448\n",
      "0.00047211448\n",
      "0.00047211448\n",
      "0.00047211448\n",
      "0.00047211448\n",
      "0.00047211448\n",
      "0.00047211448\n",
      "0.00047211448\n",
      "0.00047211468\n",
      "0.00047210953\n",
      "0.00050081324\n",
      "0.00047211448\n",
      "0.0004722272\n",
      "0.000472596\n",
      "0.00047211448\n",
      "0.00047211448\n",
      "0.00047211448\n",
      "0.00047211448\n",
      "0.00047211448\n",
      "0.00047211448\n",
      "0.00047211448\n",
      "0.00047212167\n",
      "0.00047211448\n",
      "0.0004721108\n",
      "0.00047211855\n",
      "0.00047211448\n",
      "0.00047212568\n",
      "0.0004722459\n",
      "0.00047204923\n",
      "0.00047211448\n",
      "0.00047211448\n",
      "0.00047095752\n",
      "0.00047211468\n",
      "0.00047211448\n",
      "0.00093971874\n",
      "0.00047211448\n",
      "0.00047220243\n",
      "0.00047217993\n",
      "0.00047257528\n",
      "0.00047246137\n",
      "0.00047211561\n",
      "0.00047211448\n",
      "0.00047211448\n",
      "0.00047211448\n",
      "0.00047211448\n",
      "0.00047237446\n",
      "0.00047209466\n",
      "0.00047511488\n",
      "0.00047211448\n",
      "0.0004704967\n",
      "0.00047287153\n",
      "0.00047212437\n",
      "0.00047211448\n",
      "0.00047211448\n",
      "0.00047211448\n",
      "0.00047210953\n",
      "0.00047376644\n",
      "0.00047213025\n",
      "0.0004721066\n",
      "0.0005315018\n",
      "0.00047209286\n",
      "0.00047211448\n",
      "0.00047211448\n",
      "0.00047211448\n",
      "0.00047208497\n",
      "0.00047209646\n",
      "0.00047043886\n"
     ]
    },
    {
     "ename": "KeyboardInterrupt",
     "evalue": "",
     "output_type": "error",
     "traceback": [
      "\u001b[1;31m---------------------------------------------------------------------------\u001b[0m",
      "\u001b[1;31mKeyboardInterrupt\u001b[0m                         Traceback (most recent call last)",
      "Cell \u001b[1;32mIn[106], line 1\u001b[0m\n\u001b[1;32m----> 1\u001b[0m a \u001b[38;5;241m=\u001b[39m \u001b[43mpatched_predict\u001b[49m\u001b[43m(\u001b[49m\u001b[43mtest_img\u001b[49m\u001b[43m,\u001b[49m\u001b[43mmodel\u001b[49m\u001b[43m,\u001b[49m\u001b[38;5;241;43m576\u001b[39;49m\u001b[43m,\u001b[49m\u001b[38;5;241;43m288\u001b[39;49m\u001b[43m)\u001b[49m\n",
      "Cell \u001b[1;32mIn[105], line 31\u001b[0m, in \u001b[0;36mpatched_predict\u001b[1;34m(img, model, window_size, stride)\u001b[0m\n\u001b[0;32m     29\u001b[0m pred_in \u001b[38;5;241m=\u001b[39m img_pad[x_start:x_stop, y_start:y_stop,:]\n\u001b[0;32m     30\u001b[0m preprocessing_fn \u001b[38;5;241m=\u001b[39m smp\u001b[38;5;241m.\u001b[39mencoders\u001b[38;5;241m.\u001b[39mget_preprocessing_fn(\u001b[38;5;124m\"\u001b[39m\u001b[38;5;124mvgg19\u001b[39m\u001b[38;5;124m\"\u001b[39m,\u001b[38;5;124m\"\u001b[39m\u001b[38;5;124mimagenet\u001b[39m\u001b[38;5;124m\"\u001b[39m)\n\u001b[1;32m---> 31\u001b[0m sample \u001b[38;5;241m=\u001b[39m \u001b[43mget_preprocessing\u001b[49m\u001b[43m(\u001b[49m\u001b[43mpreprocessing_fn\u001b[49m\u001b[43m,\u001b[49m\u001b[38;5;241;43m0\u001b[39;49m\u001b[43m)\u001b[49m\u001b[43m(\u001b[49m\u001b[43mimage\u001b[49m\u001b[38;5;241;43m=\u001b[39;49m\u001b[43mpred_in\u001b[49m\u001b[43m)\u001b[49m\n\u001b[0;32m     32\u001b[0m pred_in \u001b[38;5;241m=\u001b[39m sample[\u001b[38;5;124m\"\u001b[39m\u001b[38;5;124mimage\u001b[39m\u001b[38;5;124m\"\u001b[39m]\n\u001b[0;32m     33\u001b[0m pred_in \u001b[38;5;241m=\u001b[39m torch\u001b[38;5;241m.\u001b[39mfrom_numpy(pred_in)\u001b[38;5;241m.\u001b[39mto(DEVICE)\u001b[38;5;241m.\u001b[39munsqueeze(\u001b[38;5;241m0\u001b[39m)\n",
      "File \u001b[1;32mc:\\Users\\PC\\anaconda3\\envs\\seg\\lib\\site-packages\\albumentations\\core\\composition.py:210\u001b[0m, in \u001b[0;36mCompose.__call__\u001b[1;34m(self, force_apply, *args, **data)\u001b[0m\n\u001b[0;32m    207\u001b[0m     p\u001b[38;5;241m.\u001b[39mpreprocess(data)\n\u001b[0;32m    209\u001b[0m \u001b[38;5;28;01mfor\u001b[39;00m idx, t \u001b[38;5;129;01min\u001b[39;00m \u001b[38;5;28menumerate\u001b[39m(transforms):\n\u001b[1;32m--> 210\u001b[0m     data \u001b[38;5;241m=\u001b[39m t(\u001b[38;5;241m*\u001b[39m\u001b[38;5;241m*\u001b[39mdata)\n\u001b[0;32m    212\u001b[0m     \u001b[38;5;28;01mif\u001b[39;00m check_each_transform:\n\u001b[0;32m    213\u001b[0m         data \u001b[38;5;241m=\u001b[39m \u001b[38;5;28mself\u001b[39m\u001b[38;5;241m.\u001b[39m_check_data_post_transform(data)\n",
      "File \u001b[1;32mc:\\Users\\PC\\anaconda3\\envs\\seg\\lib\\site-packages\\albumentations\\core\\transforms_interface.py:118\u001b[0m, in \u001b[0;36mBasicTransform.__call__\u001b[1;34m(self, force_apply, *args, **kwargs)\u001b[0m\n\u001b[0;32m    113\u001b[0m             warn(\n\u001b[0;32m    114\u001b[0m                 \u001b[38;5;28mself\u001b[39m\u001b[38;5;241m.\u001b[39mget_class_fullname() \u001b[38;5;241m+\u001b[39m \u001b[38;5;124m\"\u001b[39m\u001b[38;5;124m could work incorrectly in ReplayMode for other input data\u001b[39m\u001b[38;5;124m\"\u001b[39m\n\u001b[0;32m    115\u001b[0m                 \u001b[38;5;124m\"\u001b[39m\u001b[38;5;124m because its\u001b[39m\u001b[38;5;124m'\u001b[39m\u001b[38;5;124m params depend on targets.\u001b[39m\u001b[38;5;124m\"\u001b[39m\n\u001b[0;32m    116\u001b[0m             )\n\u001b[0;32m    117\u001b[0m         kwargs[\u001b[38;5;28mself\u001b[39m\u001b[38;5;241m.\u001b[39msave_key][\u001b[38;5;28mid\u001b[39m(\u001b[38;5;28mself\u001b[39m)] \u001b[38;5;241m=\u001b[39m deepcopy(params)\n\u001b[1;32m--> 118\u001b[0m     \u001b[38;5;28;01mreturn\u001b[39;00m \u001b[38;5;28mself\u001b[39m\u001b[38;5;241m.\u001b[39mapply_with_params(params, \u001b[38;5;241m*\u001b[39m\u001b[38;5;241m*\u001b[39mkwargs)\n\u001b[0;32m    120\u001b[0m \u001b[38;5;28;01mreturn\u001b[39;00m kwargs\n",
      "File \u001b[1;32mc:\\Users\\PC\\anaconda3\\envs\\seg\\lib\\site-packages\\albumentations\\core\\transforms_interface.py:131\u001b[0m, in \u001b[0;36mBasicTransform.apply_with_params\u001b[1;34m(self, params, **kwargs)\u001b[0m\n\u001b[0;32m    129\u001b[0m     target_function \u001b[38;5;241m=\u001b[39m \u001b[38;5;28mself\u001b[39m\u001b[38;5;241m.\u001b[39m_get_target_function(key)\n\u001b[0;32m    130\u001b[0m     target_dependencies \u001b[38;5;241m=\u001b[39m {k: kwargs[k] \u001b[38;5;28;01mfor\u001b[39;00m k \u001b[38;5;129;01min\u001b[39;00m \u001b[38;5;28mself\u001b[39m\u001b[38;5;241m.\u001b[39mtarget_dependence\u001b[38;5;241m.\u001b[39mget(key, [])}\n\u001b[1;32m--> 131\u001b[0m     res[key] \u001b[38;5;241m=\u001b[39m target_function(arg, \u001b[38;5;241m*\u001b[39m\u001b[38;5;241m*\u001b[39m\u001b[38;5;28mdict\u001b[39m(params, \u001b[38;5;241m*\u001b[39m\u001b[38;5;241m*\u001b[39mtarget_dependencies))\n\u001b[0;32m    132\u001b[0m \u001b[38;5;28;01melse\u001b[39;00m:\n\u001b[0;32m    133\u001b[0m     res[key] \u001b[38;5;241m=\u001b[39m \u001b[38;5;28;01mNone\u001b[39;00m\n",
      "File \u001b[1;32mc:\\Users\\PC\\anaconda3\\envs\\seg\\lib\\site-packages\\albumentations\\augmentations\\transforms.py:1786\u001b[0m, in \u001b[0;36mLambda.apply\u001b[1;34m(self, img, **params)\u001b[0m\n\u001b[0;32m   1784\u001b[0m \u001b[38;5;28;01mdef\u001b[39;00m \u001b[38;5;21mapply\u001b[39m(\u001b[38;5;28mself\u001b[39m, img, \u001b[38;5;241m*\u001b[39m\u001b[38;5;241m*\u001b[39mparams):\n\u001b[0;32m   1785\u001b[0m     fn \u001b[38;5;241m=\u001b[39m \u001b[38;5;28mself\u001b[39m\u001b[38;5;241m.\u001b[39mcustom_apply_fns[\u001b[38;5;124m\"\u001b[39m\u001b[38;5;124mimage\u001b[39m\u001b[38;5;124m\"\u001b[39m]\n\u001b[1;32m-> 1786\u001b[0m     \u001b[38;5;28;01mreturn\u001b[39;00m fn(img, \u001b[38;5;241m*\u001b[39m\u001b[38;5;241m*\u001b[39mparams)\n",
      "File \u001b[1;32mc:\\Users\\PC\\anaconda3\\envs\\seg\\lib\\site-packages\\segmentation_models_pytorch\\encoders\\_preprocessing.py:19\u001b[0m, in \u001b[0;36mpreprocess_input\u001b[1;34m(x, mean, std, input_space, input_range, **kwargs)\u001b[0m\n\u001b[0;32m     17\u001b[0m \u001b[38;5;28;01mif\u001b[39;00m std \u001b[38;5;129;01mis\u001b[39;00m \u001b[38;5;129;01mnot\u001b[39;00m \u001b[38;5;28;01mNone\u001b[39;00m:\n\u001b[0;32m     18\u001b[0m     std \u001b[38;5;241m=\u001b[39m np\u001b[38;5;241m.\u001b[39marray(std)\n\u001b[1;32m---> 19\u001b[0m     x \u001b[38;5;241m=\u001b[39m \u001b[43mx\u001b[49m\u001b[43m \u001b[49m\u001b[38;5;241;43m/\u001b[39;49m\u001b[43m \u001b[49m\u001b[43mstd\u001b[49m\n\u001b[0;32m     21\u001b[0m \u001b[38;5;28;01mreturn\u001b[39;00m x\n",
      "\u001b[1;31mKeyboardInterrupt\u001b[0m: "
     ]
    }
   ],
   "source": []
  },
  {
   "cell_type": "code",
   "execution_count": null,
   "metadata": {},
   "outputs": [],
   "source": [
    "gt = cv2.imread(\"IDRiD_79w.png\",cv2.IMREAD_GRAYSCALE)\n",
    "gt_2752 = cv2.imread(\"IDRiD_79_2752.png\",cv2.IMREAD_GRAYSCALE)\n",
    "gt_2752 =np.where(gt_2752  == 3,1,0)\n",
    "gt = np.where(gt == 3,1,0)\n",
    "original_result = cv2.imread(\"merged_IDRiD_79.png_1.png.png\",cv2.IMREAD_GRAYSCALE)\n",
    "\n",
    "original_result.shape"
   ]
  },
  {
   "cell_type": "code",
   "execution_count": 94,
   "metadata": {},
   "outputs": [
    {
     "data": {
      "text/plain": [
       "True"
      ]
     },
     "execution_count": 94,
     "metadata": {},
     "output_type": "execute_result"
    }
   ],
   "source": [
    "cv2.imwrite(\"strie_pred.png\",a)"
   ]
  },
  {
   "cell_type": "code",
   "execution_count": 95,
   "metadata": {},
   "outputs": [
    {
     "data": {
      "text/plain": [
       "True"
      ]
     },
     "execution_count": 95,
     "metadata": {},
     "output_type": "execute_result"
    }
   ],
   "source": [
    "cv2.imwrite(\"normal_pred.png\",original_result)"
   ]
  },
  {
   "cell_type": "code",
   "execution_count": 69,
   "metadata": {},
   "outputs": [
    {
     "data": {
      "text/plain": [
       "<matplotlib.image.AxesImage at 0x1e9cdb60430>"
      ]
     },
     "execution_count": 69,
     "metadata": {},
     "output_type": "execute_result"
    },
    {
     "data": {
      "image/png": "[encoded data removed]",
      "text/plain": [
       "<Figure size 640x480 with 1 Axes>"
      ]
     },
     "metadata": {},
     "output_type": "display_data"
    }
   ],
   "source": [
    "plt.imshow(gt)"
   ]
  },
  {
   "cell_type": "code",
   "execution_count": 70,
   "metadata": {},
   "outputs": [
    {
     "data": {
      "text/plain": [
       "<matplotlib.image.AxesImage at 0x1e995daed90>"
      ]
     },
     "execution_count": 70,
     "metadata": {},
     "output_type": "execute_result"
    },
    {
     "data": {
      "image/png": "[encoded data removed]",
      "text/plain": [
       "<Figure size 640x480 with 1 Axes>"
      ]
     },
     "metadata": {},
     "output_type": "display_data"
    }
   ],
   "source": [
    "plt.imshow(gt_2752)"
   ]
  },
  {
   "cell_type": "code",
   "execution_count": 71,
   "metadata": {},
   "outputs": [
    {
     "data": {
      "text/plain": [
       "0.44436424328782576"
      ]
     },
     "execution_count": 71,
     "metadata": {},
     "output_type": "execute_result"
    }
   ],
   "source": [
    "calculate_auc_pr(gt_2752,original_result)"
   ]
  },
  {
   "cell_type": "code",
   "execution_count": 80,
   "metadata": {},
   "outputs": [
    {
     "data": {
      "text/plain": [
       "(3456, 3456)"
      ]
     },
     "execution_count": 80,
     "metadata": {},
     "output_type": "execute_result"
    }
   ],
   "source": [
    "a.shape"
   ]
  },
  {
   "cell_type": "code",
   "execution_count": 84,
   "metadata": {},
   "outputs": [
    {
     "data": {
      "text/plain": [
       "(3456, 3456)"
      ]
     },
     "execution_count": 84,
     "metadata": {},
     "output_type": "execute_result"
    }
   ],
   "source": [
    "gt.shape"
   ]
  },
  {
   "cell_type": "code",
   "execution_count": 88,
   "metadata": {},
   "outputs": [
    {
     "ename": "ValueError",
     "evalue": "multiclass format is not supported",
     "output_type": "error",
     "traceback": [
      "\u001b[1;31m---------------------------------------------------------------------------\u001b[0m",
      "\u001b[1;31mValueError\u001b[0m                                Traceback (most recent call last)",
      "Cell \u001b[1;32mIn[88], line 1\u001b[0m\n\u001b[1;32m----> 1\u001b[0m \u001b[43mcalculate_auc_pr\u001b[49m\u001b[43m(\u001b[49m\u001b[43mgt\u001b[49m\u001b[43m,\u001b[49m\u001b[43ma\u001b[49m\u001b[43m)\u001b[49m\n",
      "File \u001b[1;32mc:\\Users\\PC\\Desktop\\kamyon\\kamyonculuk\\utils.py:343\u001b[0m, in \u001b[0;36mcalculate_auc_pr\u001b[1;34m(y_true, y_scores, return_curve)\u001b[0m\n\u001b[0;32m    340\u001b[0m y_true_flat \u001b[38;5;241m=\u001b[39m y_true\u001b[38;5;241m.\u001b[39mflatten()\n\u001b[0;32m    341\u001b[0m y_scores_flat \u001b[38;5;241m=\u001b[39m y_scores\u001b[38;5;241m.\u001b[39mflatten()\n\u001b[1;32m--> 343\u001b[0m precision, recall, _ \u001b[38;5;241m=\u001b[39m \u001b[43mprecision_recall_curve\u001b[49m\u001b[43m(\u001b[49m\u001b[43my_true_flat\u001b[49m\u001b[43m,\u001b[49m\u001b[43m \u001b[49m\u001b[43my_scores_flat\u001b[49m\u001b[43m)\u001b[49m\n\u001b[0;32m    344\u001b[0m auc_pr \u001b[38;5;241m=\u001b[39m auc(recall, precision)\n\u001b[0;32m    346\u001b[0m \u001b[38;5;28;01mif\u001b[39;00m return_curve:\n",
      "File \u001b[1;32mc:\\Users\\PC\\anaconda3\\envs\\seg\\lib\\site-packages\\sklearn\\utils\\_param_validation.py:211\u001b[0m, in \u001b[0;36mvalidate_params.<locals>.decorator.<locals>.wrapper\u001b[1;34m(*args, **kwargs)\u001b[0m\n\u001b[0;32m    205\u001b[0m \u001b[38;5;28;01mtry\u001b[39;00m:\n\u001b[0;32m    206\u001b[0m     \u001b[38;5;28;01mwith\u001b[39;00m config_context(\n\u001b[0;32m    207\u001b[0m         skip_parameter_validation\u001b[38;5;241m=\u001b[39m(\n\u001b[0;32m    208\u001b[0m             prefer_skip_nested_validation \u001b[38;5;129;01mor\u001b[39;00m global_skip_validation\n\u001b[0;32m    209\u001b[0m         )\n\u001b[0;32m    210\u001b[0m     ):\n\u001b[1;32m--> 211\u001b[0m         \u001b[38;5;28;01mreturn\u001b[39;00m func(\u001b[38;5;241m*\u001b[39margs, \u001b[38;5;241m*\u001b[39m\u001b[38;5;241m*\u001b[39mkwargs)\n\u001b[0;32m    212\u001b[0m \u001b[38;5;28;01mexcept\u001b[39;00m InvalidParameterError \u001b[38;5;28;01mas\u001b[39;00m e:\n\u001b[0;32m    213\u001b[0m     \u001b[38;5;66;03m# When the function is just a wrapper around an estimator, we allow\u001b[39;00m\n\u001b[0;32m    214\u001b[0m     \u001b[38;5;66;03m# the function to delegate validation to the estimator, but we replace\u001b[39;00m\n\u001b[0;32m    215\u001b[0m     \u001b[38;5;66;03m# the name of the estimator by the name of the function in the error\u001b[39;00m\n\u001b[0;32m    216\u001b[0m     \u001b[38;5;66;03m# message to avoid confusion.\u001b[39;00m\n\u001b[0;32m    217\u001b[0m     msg \u001b[38;5;241m=\u001b[39m re\u001b[38;5;241m.\u001b[39msub(\n\u001b[0;32m    218\u001b[0m         \u001b[38;5;124mr\u001b[39m\u001b[38;5;124m\"\u001b[39m\u001b[38;5;124mparameter of \u001b[39m\u001b[38;5;124m\\\u001b[39m\u001b[38;5;124mw+ must be\u001b[39m\u001b[38;5;124m\"\u001b[39m,\n\u001b[0;32m    219\u001b[0m         \u001b[38;5;124mf\u001b[39m\u001b[38;5;124m\"\u001b[39m\u001b[38;5;124mparameter of \u001b[39m\u001b[38;5;132;01m{\u001b[39;00mfunc\u001b[38;5;241m.\u001b[39m\u001b[38;5;18m__qualname__\u001b[39m\u001b[38;5;132;01m}\u001b[39;00m\u001b[38;5;124m must be\u001b[39m\u001b[38;5;124m\"\u001b[39m,\n\u001b[0;32m    220\u001b[0m         \u001b[38;5;28mstr\u001b[39m(e),\n\u001b[0;32m    221\u001b[0m     )\n",
      "File \u001b[1;32mc:\\Users\\PC\\anaconda3\\envs\\seg\\lib\\site-packages\\sklearn\\metrics\\_ranking.py:951\u001b[0m, in \u001b[0;36mprecision_recall_curve\u001b[1;34m(y_true, probas_pred, pos_label, sample_weight, drop_intermediate)\u001b[0m\n\u001b[0;32m    851\u001b[0m \u001b[38;5;129m@validate_params\u001b[39m(\n\u001b[0;32m    852\u001b[0m     {\n\u001b[0;32m    853\u001b[0m         \u001b[38;5;124m\"\u001b[39m\u001b[38;5;124my_true\u001b[39m\u001b[38;5;124m\"\u001b[39m: [\u001b[38;5;124m\"\u001b[39m\u001b[38;5;124marray-like\u001b[39m\u001b[38;5;124m\"\u001b[39m],\n\u001b[1;32m   (...)\u001b[0m\n\u001b[0;32m    862\u001b[0m     y_true, probas_pred, \u001b[38;5;241m*\u001b[39m, pos_label\u001b[38;5;241m=\u001b[39m\u001b[38;5;28;01mNone\u001b[39;00m, sample_weight\u001b[38;5;241m=\u001b[39m\u001b[38;5;28;01mNone\u001b[39;00m, drop_intermediate\u001b[38;5;241m=\u001b[39m\u001b[38;5;28;01mFalse\u001b[39;00m\n\u001b[0;32m    863\u001b[0m ):\n\u001b[0;32m    864\u001b[0m \u001b[38;5;250m    \u001b[39m\u001b[38;5;124;03m\"\"\"Compute precision-recall pairs for different probability thresholds.\u001b[39;00m\n\u001b[0;32m    865\u001b[0m \n\u001b[0;32m    866\u001b[0m \u001b[38;5;124;03m    Note: this implementation is restricted to the binary classification task.\u001b[39;00m\n\u001b[1;32m   (...)\u001b[0m\n\u001b[0;32m    949\u001b[0m \u001b[38;5;124;03m    array([0.1 , 0.35, 0.4 , 0.8 ])\u001b[39;00m\n\u001b[0;32m    950\u001b[0m \u001b[38;5;124;03m    \"\"\"\u001b[39;00m\n\u001b[1;32m--> 951\u001b[0m     fps, tps, thresholds \u001b[38;5;241m=\u001b[39m \u001b[43m_binary_clf_curve\u001b[49m\u001b[43m(\u001b[49m\n\u001b[0;32m    952\u001b[0m \u001b[43m        \u001b[49m\u001b[43my_true\u001b[49m\u001b[43m,\u001b[49m\u001b[43m \u001b[49m\u001b[43mprobas_pred\u001b[49m\u001b[43m,\u001b[49m\u001b[43m \u001b[49m\u001b[43mpos_label\u001b[49m\u001b[38;5;241;43m=\u001b[39;49m\u001b[43mpos_label\u001b[49m\u001b[43m,\u001b[49m\u001b[43m \u001b[49m\u001b[43msample_weight\u001b[49m\u001b[38;5;241;43m=\u001b[39;49m\u001b[43msample_weight\u001b[49m\n\u001b[0;32m    953\u001b[0m \u001b[43m    \u001b[49m\u001b[43m)\u001b[49m\n\u001b[0;32m    955\u001b[0m     \u001b[38;5;28;01mif\u001b[39;00m drop_intermediate \u001b[38;5;129;01mand\u001b[39;00m \u001b[38;5;28mlen\u001b[39m(fps) \u001b[38;5;241m>\u001b[39m \u001b[38;5;241m2\u001b[39m:\n\u001b[0;32m    956\u001b[0m         \u001b[38;5;66;03m# Drop thresholds corresponding to points where true positives (tps)\u001b[39;00m\n\u001b[0;32m    957\u001b[0m         \u001b[38;5;66;03m# do not change from the previous or subsequent point. This will keep\u001b[39;00m\n\u001b[0;32m    958\u001b[0m         \u001b[38;5;66;03m# only the first and last point for each tps value. All points\u001b[39;00m\n\u001b[0;32m    959\u001b[0m         \u001b[38;5;66;03m# with the same tps value have the same recall and thus x coordinate.\u001b[39;00m\n\u001b[0;32m    960\u001b[0m         \u001b[38;5;66;03m# They appear as a vertical line on the plot.\u001b[39;00m\n\u001b[0;32m    961\u001b[0m         optimal_idxs \u001b[38;5;241m=\u001b[39m np\u001b[38;5;241m.\u001b[39mwhere(\n\u001b[0;32m    962\u001b[0m             np\u001b[38;5;241m.\u001b[39mconcatenate(\n\u001b[0;32m    963\u001b[0m                 [[\u001b[38;5;28;01mTrue\u001b[39;00m], np\u001b[38;5;241m.\u001b[39mlogical_or(np\u001b[38;5;241m.\u001b[39mdiff(tps[:\u001b[38;5;241m-\u001b[39m\u001b[38;5;241m1\u001b[39m]), np\u001b[38;5;241m.\u001b[39mdiff(tps[\u001b[38;5;241m1\u001b[39m:])), [\u001b[38;5;28;01mTrue\u001b[39;00m]]\n\u001b[0;32m    964\u001b[0m             )\n\u001b[0;32m    965\u001b[0m         )[\u001b[38;5;241m0\u001b[39m]\n",
      "File \u001b[1;32mc:\\Users\\PC\\anaconda3\\envs\\seg\\lib\\site-packages\\sklearn\\metrics\\_ranking.py:803\u001b[0m, in \u001b[0;36m_binary_clf_curve\u001b[1;34m(y_true, y_score, pos_label, sample_weight)\u001b[0m\n\u001b[0;32m    801\u001b[0m y_type \u001b[38;5;241m=\u001b[39m type_of_target(y_true, input_name\u001b[38;5;241m=\u001b[39m\u001b[38;5;124m\"\u001b[39m\u001b[38;5;124my_true\u001b[39m\u001b[38;5;124m\"\u001b[39m)\n\u001b[0;32m    802\u001b[0m \u001b[38;5;28;01mif\u001b[39;00m \u001b[38;5;129;01mnot\u001b[39;00m (y_type \u001b[38;5;241m==\u001b[39m \u001b[38;5;124m\"\u001b[39m\u001b[38;5;124mbinary\u001b[39m\u001b[38;5;124m\"\u001b[39m \u001b[38;5;129;01mor\u001b[39;00m (y_type \u001b[38;5;241m==\u001b[39m \u001b[38;5;124m\"\u001b[39m\u001b[38;5;124mmulticlass\u001b[39m\u001b[38;5;124m\"\u001b[39m \u001b[38;5;129;01mand\u001b[39;00m pos_label \u001b[38;5;129;01mis\u001b[39;00m \u001b[38;5;129;01mnot\u001b[39;00m \u001b[38;5;28;01mNone\u001b[39;00m)):\n\u001b[1;32m--> 803\u001b[0m     \u001b[38;5;28;01mraise\u001b[39;00m \u001b[38;5;167;01mValueError\u001b[39;00m(\u001b[38;5;124m\"\u001b[39m\u001b[38;5;132;01m{0}\u001b[39;00m\u001b[38;5;124m format is not supported\u001b[39m\u001b[38;5;124m\"\u001b[39m\u001b[38;5;241m.\u001b[39mformat(y_type))\n\u001b[0;32m    805\u001b[0m check_consistent_length(y_true, y_score, sample_weight)\n\u001b[0;32m    806\u001b[0m y_true \u001b[38;5;241m=\u001b[39m column_or_1d(y_true)\n",
      "\u001b[1;31mValueError\u001b[0m: multiclass format is not supported"
     ]
    }
   ],
   "source": [
    "calculate_auc_pr(gt,a)"
   ]
  }
 ],
 "metadata": {
  "kernelspec": {
   "display_name": "seg",
   "language": "python",
   "name": "python3"
  },
  "language_info": {
   "codemirror_mode": {
    "name": "ipython",
    "version": 3
   },
   "file_extension": ".py",
   "mimetype": "text/x-python",
   "name": "python",
   "nbconvert_exporter": "python",
   "pygments_lexer": "ipython3",
   "version": "3.9.18"
  }
 },
 "nbformat": 4,
 "nbformat_minor": 2
}
